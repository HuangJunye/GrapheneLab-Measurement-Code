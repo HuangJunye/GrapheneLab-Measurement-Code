{
 "cells": [
  {
   "cell_type": "markdown",
   "metadata": {},
   "source": [
    "# R-Vg Measurement\n",
    "This example notebook shows how to measure resistance (using SR830 lock-in amplifier) as a function of gate voltage (using Keithley 2400). This is an example to show how to sweep one instrument and measure two instrument at the same time."
   ]
  },
  {
   "cell_type": "code",
   "execution_count": null,
   "metadata": {},
   "outputs": [],
   "source": [
    "import sys\n",
    "# add path to GrapheneLab-Measurement-Code folder \n",
    "sys.path.append(r\"C:\\Users\\Username\\Documents\\GrapheneLab-Measurement-Code\")"
   ]
  },
  {
   "cell_type": "code",
   "execution_count": null,
   "metadata": {},
   "outputs": [],
   "source": [
    "import os\n",
    "import numpy as np\n",
    "\n",
    "# import pyqtgraph for live plotting\n",
    "import pyqtgraph as pg\n",
    "import pyqtgraph.multiprocess as mp\n",
    "\n",
    "# import instrument drivers\n",
    "from instrument.standford_research_systems.sr830 import SR830\n",
    "from instrument.keithley.k6430 import K6430\n",
    "from instrument.keithley.k2400 import K2400\n",
    "from instrument.keithley.k2182 import K2182\n",
    "\n",
    "# import measurement method\n",
    "from measurement.do_device_sweep import do_device_sweep"
   ]
  },
  {
   "cell_type": "code",
   "execution_count": null,
   "metadata": {},
   "outputs": [],
   "source": [
    "# set up live plotting\n",
    "pg.mkQApp()\n",
    "graph_proc = mp.QtProcess()\n",
    "rpg = graph_proc._import('pyqtgraph')"
   ]
  },
  {
   "cell_type": "code",
   "execution_count": null,
   "metadata": {},
   "outputs": [],
   "source": [
    "# assign instrument address\n",
    "dev_source = K6430(24)\n",
    "lockin1 = SR830(8)\n",
    "\n",
    "# initialize instruments\n",
    "dev_source.initialize(\n",
    "    mode='VOLT', source_range=0.2, sense_range=1e-6, compliance=1e-6, \n",
    "    ramp_step=10e-3, auto_sense_range=False\n",
    ")\n",
    "\n",
    "lockin1.initialize(auto_range=False) # auto range function doesn't very well. Recommend to disable it.\n",
    "\n",
    "# define instrument to sweep and read\n",
    "sweep_inst = dev_source\n",
    "read_inst = [dev_source, lockin1]\n",
    "\n",
    "# if the devices are connected succesfully, you should see device name below"
   ]
  },
  {
   "cell_type": "code",
   "execution_count": null,
   "metadata": {},
   "outputs": [],
   "source": [
    "# put measurement details in filename\n",
    "device_name = \"device name\"\n",
    "meas_type = \"measurement type\"\n",
    "junction_name = \"junction name\"\n",
    "parameter = \"measurement parameters\"\n",
    "condition = \"measurement condition\"\n",
    "seperator = '_'\n",
    "\n",
    "# file name will be \"device name_measurement type_junction name_measurement parameters_measurement condition\"\n",
    "# you can customise the file name according to your need. Any string is OK\n",
    "filename = seperator.join([device_name, meas_type, junction_name, parameter, condition])\n",
    "\n",
    "# you can also put comment inside the file\n",
    "comment_string = \"comment\""
   ]
  },
  {
   "cell_type": "code",
   "execution_count": null,
   "metadata": {},
   "outputs": [],
   "source": [
    "do_device_sweep(\n",
    "    # don't touch these lines. They are used to set up measurement windows, etc.\n",
    "    graph_proc, rpg, file_title,\n",
    "    comment=comment_string,\n",
    "    \n",
    "    # magnetic field setting, in Tesla\n",
    "    b_set=0., persist=True, # persit mode\n",
    "    ignore_magnet=True, # ignore magnetic field control if you are not using it\n",
    "    \n",
    "    # temperature setting, in Kelvin\n",
    "    t_set=-1, # put -1 if you don't want temperature control\n",
    "    \n",
    "    # pass sweep and read instruments which are defined in cells above\n",
    "    sweep_inst, read_inst,\n",
    "    \n",
    "    # you can set a fixed value to another instrument while sweeping the sweep instrument\n",
    "    set_inst=[], set_value=[], finish_value=[], pre_value=[], \n",
    "    \n",
    "    # sweeping parameters\n",
    "    sweep_start=-20e-3,sweep_stop=20e-3, sweep_mid=[], sweep_step=0.2e-3, sweep_finish=0.0,\n",
    "\n",
    "    delay=0.1, # # delay between each measurement point, in seconds\n",
    "    timeout=10, # maximum waiting time for the system to reach b_set and t_set, in minutes\n",
    "    wait=0.1, # waiting time after b_set and t_set is reached before measurement start, in minutes\n",
    ")"
   ]
  }
 ],
 "metadata": {
  "kernelspec": {
   "display_name": "Python 3",
   "language": "python",
   "name": "python3"
  },
  "language_info": {
   "codemirror_mode": {
    "name": "ipython",
    "version": 3
   },
   "file_extension": ".py",
   "mimetype": "text/x-python",
   "name": "python",
   "nbconvert_exporter": "python",
   "pygments_lexer": "ipython3",
   "version": "3.7.3"
  }
 },
 "nbformat": 4,
 "nbformat_minor": 2
}
