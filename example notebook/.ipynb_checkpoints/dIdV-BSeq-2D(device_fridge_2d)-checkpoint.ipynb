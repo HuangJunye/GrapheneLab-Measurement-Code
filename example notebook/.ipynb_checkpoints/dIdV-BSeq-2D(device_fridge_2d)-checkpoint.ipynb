{
 "cells": [
  {
   "cell_type": "code",
   "execution_count": null,
   "metadata": {},
   "outputs": [],
   "source": [
    "import sys\n",
    "sys.path.append(r\"C:\\Users\\adminnus\\Documents\\Github\\GrapheneLab-Measurement-Code\")\n",
    "\n",
    "import os\n",
    "import numpy as np\n",
    "\n",
    "import pyqtgraph as pg\n",
    "import pyqtgraph.multiprocess as mp\n",
    "\n",
    "from instrument.standford_research_systems.sr830 import SR830\n",
    "from instrument.keithley.k2400 import K2400\n",
    "\n",
    "from measurement.device_fridge_2d import device_fridge_2d"
   ]
  },
  {
   "cell_type": "code",
   "execution_count": null,
   "metadata": {},
   "outputs": [],
   "source": [
    "pg.mkQApp()\n",
    "\n",
    "graph_proc = mp.QtProcess()\n",
    "rpg = graph_proc._import('pyqtgraph')\n",
    "rpg.setConfigOption(\"useWeave\", False)"
   ]
  },
  {
   "cell_type": "code",
   "execution_count": null,
   "metadata": {},
   "outputs": [],
   "source": [
    "dev_source = K2400(24)\n",
    "li1 = SR830(7)\n",
    "\n",
    "sweep_inst = dev_source\n",
    "read_inst = [dev_source, li1]\n",
    "\n",
    "dev_source.initialize(\n",
    "    mode='VOLT', source_range=2, sense_range=200e-6, compliance=205e-6, \n",
    "    ramp_step=0.01, auto_sense_range=False\n",
    ")\n",
    "li1.initialize(auto_range=False)"
   ]
  },
  {
   "cell_type": "code",
   "execution_count": null,
   "metadata": {},
   "outputs": [],
   "source": [
    "# This goes into the file\n",
    "device_name = \"NbSe2-SV19\"\n",
    "meas_type = \"dIdV\"\n",
    "junction_name = \"(Co1.1-Au2)\"\n",
    "parameter = \"AC=100uV,DC=+-20mV,delay=0.1s\"\n",
    "condition = \"base,2D\"\n",
    "seperator = '_'\n",
    "\n",
    "file_title = seperator.join([device_name, meas_type, junction_name, parameter, condition])\n",
    "comment_string = \"Measurement Type: %s, Junction: %s, div_ac=1000x, div_dc=100x\" % (meas_type, junction_name)"
   ]
  },
  {
   "cell_type": "code",
   "execution_count": null,
   "metadata": {},
   "outputs": [],
   "source": [
    "device_fridge_2d(\n",
    "    graph_proc, rpg, file_title,\n",
    "    read_inst, sweep_inst=sweep_inst, set_inst=[],\n",
    "    set_value=[], pre_value=[], finish_value=[],\n",
    "    fridge_sweep='B', fridge_set=0.0,\n",
    "    device_start=-2, device_stop=2, device_step=5e-3, device_finish=0.0,\n",
    "    device_mid=[],\n",
    "    fridge_start=0, fridge_stop=7.0, fridge_rate=0.2,\n",
    "    delay=0.1,\n",
    "    timeout=-1, wait=0.0,\n",
    "    comment=comment_string)"
   ]
  },
  {
   "cell_type": "code",
   "execution_count": null,
   "metadata": {},
   "outputs": [],
   "source": []
  }
 ],
 "metadata": {
  "kernelspec": {
   "display_name": "Python 3",
   "language": "python",
   "name": "python3"
  },
  "language_info": {
   "codemirror_mode": {
    "name": "ipython",
    "version": 3
   },
   "file_extension": ".py",
   "mimetype": "text/x-python",
   "name": "python",
   "nbconvert_exporter": "python",
   "pygments_lexer": "ipython3",
   "version": "3.7.3"
  }
 },
 "nbformat": 4,
 "nbformat_minor": 2
}
