{
 "cells": [
  {
   "cell_type": "code",
   "execution_count": null,
   "metadata": {},
   "outputs": [],
   "source": [
    "import sys\n",
    "sys.path.append(r\"C:\\Users\\adminnus\\Documents\\Github\\GrapheneLab-Measurement-Code\")\n",
    "\n",
    "import os\n",
    "import numpy as np\n",
    "import time\n",
    "\n",
    "import pyqtgraph as pg\n",
    "import pyqtgraph.multiprocess as mp\n",
    "\n",
    "from instrument.standford_research_systems.sr830 import SR830\n",
    "from instrument.keithley.k2400 import K2400\n",
    "\n",
    "from measurement.do_fridge_sweep import do_fridge_sweep"
   ]
  },
  {
   "cell_type": "code",
   "execution_count": null,
   "metadata": {},
   "outputs": [],
   "source": [
    "pg.mkQApp()\n",
    "\n",
    "graph_proc = mp.QtProcess()\n",
    "rpg = graph_proc._import('pyqtgraph')"
   ]
  },
  {
   "cell_type": "code",
   "execution_count": null,
   "metadata": {
    "scrolled": true
   },
   "outputs": [],
   "source": [
    "li1 = SR830(7)\n",
    "li2 = SR830(8)\n",
    "read_inst = [li1,li2]"
   ]
  },
  {
   "cell_type": "code",
   "execution_count": null,
   "metadata": {},
   "outputs": [],
   "source": [
    "li1.initialize(auto_range=False)\n",
    "li2.initialize(auto_range=False)"
   ]
  },
  {
   "cell_type": "code",
   "execution_count": null,
   "metadata": {},
   "outputs": [],
   "source": [
    "# This goes into the file\n",
    "device_name = \"NbSe2-SV24\"\n",
    "meas_type = \"AMR\"\n",
    "junction_name = \"Co1\"\n",
    "parameter = \"1uA,+-100mT,20mTpermin\"\n",
    "condition = \"4K\"\n",
    "seperator = '_'\n",
    "\n",
    "file_title = seperator.join([device_name, meas_type, junction_name, parameter, condition])\n",
    "comment_string = \"Measurement Type: %s, Junction: %s\" % (meas_type, junction_name)"
   ]
  },
  {
   "cell_type": "code",
   "execution_count": null,
   "metadata": {},
   "outputs": [],
   "source": [
    "for i in range(1):\n",
    "    do_fridge_sweep(\n",
    "        graph_proc, rpg, file_title,\n",
    "        read_inst, fridge_sweep=\"B\", fridge_set=3,\n",
    "        sweep_start=-100e-3,sweep_stop=100e-3, sweep_rate=20e-3, sweep_finish=200e-3,\n",
    "        wait=0.1, delay=1,\n",
    "        timeout=-1,\n",
    "        comment=comment_string)\n",
    "    \n",
    "    time.sleep(1*60) # Wait for magnet to read finish field\n",
    "            \n",
    "    do_fridge_sweep(\n",
    "        graph_proc, rpg, file_title,\n",
    "        read_inst, fridge_sweep=\"B\", fridge_set=3,\n",
    "        sweep_start=100e-3,sweep_stop=-100e-3, sweep_rate=20e-3, sweep_finish=-200e-3,\n",
    "        wait=0.1, delay=1,\n",
    "        timeout=-1,\n",
    "        comment=comment_string)\n",
    "                \n",
    "    time.sleep(1*60) # Wait for magnet to read finish field"
   ]
  },
  {
   "cell_type": "code",
   "execution_count": null,
   "metadata": {},
   "outputs": [],
   "source": []
  }
 ],
 "metadata": {
  "kernelspec": {
   "display_name": "Python 3",
   "language": "python",
   "name": "python3"
  },
  "language_info": {
   "codemirror_mode": {
    "name": "ipython",
    "version": 3
   },
   "file_extension": ".py",
   "mimetype": "text/x-python",
   "name": "python",
   "nbconvert_exporter": "python",
   "pygments_lexer": "ipython3",
   "version": "3.7.3"
  }
 },
 "nbformat": 4,
 "nbformat_minor": 2
}
