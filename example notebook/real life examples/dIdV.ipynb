{
 "cells": [
  {
   "cell_type": "code",
   "execution_count": null,
   "metadata": {},
   "outputs": [],
   "source": [
    "import sys\n",
    "sys.path.append(r\"C:\\Users\\adminnus\\Documents\\Github\\GrapheneLab-Measurement-Code\")\n",
    "\n",
    "import os\n",
    "import numpy as np\n",
    "\n",
    "import pyqtgraph as pg\n",
    "import pyqtgraph.multiprocess as mp\n",
    "\n",
    "from instrument.standford_research_systems.sr830 import SR830\n",
    "from instrument.keithley.k2400 import K2400\n",
    "\n",
    "from measurement.do_device_sweep import do_device_sweep"
   ]
  },
  {
   "cell_type": "code",
   "execution_count": null,
   "metadata": {},
   "outputs": [],
   "source": [
    "pg.mkQApp()\n",
    "\n",
    "graph_proc = mp.QtProcess()\n",
    "rpg = graph_proc._import('pyqtgraph')"
   ]
  },
  {
   "cell_type": "code",
   "execution_count": null,
   "metadata": {},
   "outputs": [],
   "source": [
    "dev_source = K2400(24)\n",
    "li1 = SR830(7)\n",
    "\n",
    "sweep_inst = dev_source\n",
    "read_inst = [dev_source, li1]\n",
    "\n",
    "dev_source.initialize(\n",
    "    mode='VOLT', source_range=2, sense_range=200e-6, compliance=205e-6, \n",
    "    ramp_step=0.01, auto_sense_range=False\n",
    ")\n",
    "li1.initialize(auto_range=False)"
   ]
  },
  {
   "cell_type": "code",
   "execution_count": null,
   "metadata": {},
   "outputs": [],
   "source": [
    "# This goes into the file\n",
    "device_name = \"NbSe2-SV24\"\n",
    "meas_type = \"dIdV\"\n",
    "junction_name = \"(Au2-Co2.1)\"\n",
    "parameter = \"AC=100uV,DC=+-10mV,delay=0.5s,step=10uV\"\n",
    "condition = \"Base\"\n",
    "seperator = '_'\n",
    "\n",
    "file_title = seperator.join([device_name, meas_type, junction_name, parameter, condition])\n",
    "comment_string = \"Measurement Type: %s, Junction: %s, div_ac=1000x, div_dc=100x\" % (meas_type, junction_name)"
   ]
  },
  {
   "cell_type": "code",
   "execution_count": null,
   "metadata": {},
   "outputs": [],
   "source": [
    "do_device_sweep(\n",
    "    graph_proc, rpg, file_title,\n",
    "    sweep_inst, read_inst,\n",
    "    sweep_start=-1000e-3,sweep_stop=1000e-3, sweep_mid=[], sweep_step=1e-3, sweep_finish=1000e-3,\n",
    "    delay=0.5,\n",
    "    t_set=3, b_set=0.,\n",
    "    timeout=-1, wait=0.1,\n",
    "    comment=comment_string,\n",
    "    ignore_magnet = False)\n",
    "do_device_sweep(\n",
    "    graph_proc, rpg, file_title,\n",
    "    sweep_inst, read_inst,\n",
    "    sweep_start=1000e-3,sweep_stop=-1000e-3, sweep_mid=[], sweep_step=1e-3, sweep_finish=0.0,\n",
    "    delay=0.5,\n",
    "    t_set=3, b_set=0.,\n",
    "    timeout=-1, wait=0.1,\n",
    "    comment=comment_string,\n",
    "    ignore_magnet = False)"
   ]
  },
  {
   "cell_type": "code",
   "execution_count": null,
   "metadata": {},
   "outputs": [],
   "source": []
  }
 ],
 "metadata": {
  "kernelspec": {
   "display_name": "Python 3",
   "language": "python",
   "name": "python3"
  },
  "language_info": {
   "codemirror_mode": {
    "name": "ipython",
    "version": 3
   },
   "file_extension": ".py",
   "mimetype": "text/x-python",
   "name": "python",
   "nbconvert_exporter": "python",
   "pygments_lexer": "ipython3",
   "version": "3.7.3"
  }
 },
 "nbformat": 4,
 "nbformat_minor": 2
}
